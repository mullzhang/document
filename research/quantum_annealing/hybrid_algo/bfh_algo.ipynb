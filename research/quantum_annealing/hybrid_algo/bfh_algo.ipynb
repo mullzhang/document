{
 "cells": [
  {
   "cell_type": "markdown",
   "metadata": {},
   "source": [
    "# Bit-flip Heuristic Algorithm"
   ]
  },
  {
   "cell_type": "code",
   "execution_count": 1,
   "metadata": {},
   "outputs": [],
   "source": [
    "import numpy as np\n",
    "import matplotlib.pyplot as plt\n",
    "from matplotlib.lines import Line2D\n",
    "plt.style.use('seaborn-darkgrid')\n",
    "\n",
    "plt.rcParams['axes.labelsize'] = 16\n",
    "plt.rcParams['legend.framealpha'] = 0.0\n",
    "plt.rcParams['legend.fontsize'] = 14\n",
    "plt.rcParams['mathtext.fontset'] = 'stix'\n",
    "plt.rcParams['xtick.labelsize'] = 14\n",
    "plt.rcParams['ytick.labelsize'] = 14\n",
    "\n",
    "markers = Line2D.filled_markers\n",
    "linestyles = [k for k, v in Line2D.lineStyles.items() if 'nothing' not in v]"
   ]
  },
  {
   "cell_type": "code",
   "execution_count": 3,
   "metadata": {},
   "outputs": [],
   "source": [
    "def calc_vios(state):\n",
    "    N = len(state)\n",
    "    sum_col = np.sum(state, axis=0)\n",
    "    sum_row = np.sum(state, axis=1)\n",
    "\n",
    "    vios = np.zeros((N, N))\n",
    "    for k in range(N):\n",
    "        for l in range(N):\n",
    "            vios[k, l] = sum_col[l] + sum_row[k] - 2\n",
    "\n",
    "    return vios\n",
    "\n",
    "\n",
    "def bfh_algo(init_state):\n",
    "    state = np.array(init_state)\n",
    "    N = len(state)\n",
    "    vios = calc_vios(state)\n",
    "    while np.any(vios != 0):\n",
    "        if np.any(vios >= 1):\n",
    "            mult_max = np.argwhere(vios * state == np.max(vios * state))\n",
    "#             if len(mult_max) != 0:\n",
    "#                 print('mult_max:', mult_max)\n",
    "#             max_idx = np.argmax(vios * state)\n",
    "#             k, l = max_idx // N, max_idx % N\n",
    "            max_idx = mult_max[np.random.choice(len(mult_max))]\n",
    "            k, l = max_idx\n",
    "#             print('max:', k, l)\n",
    "            state[k, l] = 0\n",
    "        else:\n",
    "            mult_min = np.argwhere(vios * (1 - state) == np.min(vios * (1 - state)))\n",
    "#             if len(mult_min) != 0:\n",
    "#                 print('mult_min:', mult_min)\n",
    "#             min_idx = np.argmin(vios * (1 - state))\n",
    "#             k, l = min_idx // N, min_idx % N\n",
    "            min_idx = mult_min[np.random.choice(len(mult_min))]\n",
    "            k, l = min_idx\n",
    "#             print('min:', k, l)\n",
    "            state[k, l] = 1\n",
    "        vios = calc_vios(state)\n",
    "\n",
    "    return state\n",
    "\n",
    "\n",
    "def bfh_algo_r(init_state):\n",
    "    state = np.array(init_state)\n",
    "    N = len(state)\n",
    "    vios = calc_vios(state)\n",
    "    while np.any(vios != 0):\n",
    "        if np.any(vios <= -1):\n",
    "            min_idx = np.argmin(vios * (1 - state))\n",
    "            k, l = min_idx // N, min_idx % N\n",
    "            print('min:', k, l)\n",
    "            print(vios)\n",
    "            state[k, l] = 1\n",
    "        else:\n",
    "            max_idx = np.argmax(vios * state)\n",
    "            k, l = max_idx // N, max_idx % N\n",
    "            print('max:', k, l)\n",
    "            print(vios)\n",
    "            state[k, l] = 0\n",
    "        vios = calc_vios(state)\n",
    "\n",
    "    return state"
   ]
  },
  {
   "cell_type": "code",
   "execution_count": 32,
   "metadata": {},
   "outputs": [
    {
     "name": "stdout",
     "output_type": "stream",
     "text": [
      "[[0 0 1 0 0 0 0 1 0 0 0 0 0 0 0 1 0 0 0 1]\n",
      " [1 1 0 0 0 1 0 0 1 1 1 0 0 0 0 1 0 1 0 0]\n",
      " [1 0 1 1 0 0 0 1 0 1 0 1 1 0 1 1 0 0 0 0]\n",
      " [0 0 0 0 0 1 0 1 0 1 0 0 1 1 0 1 0 0 1 0]\n",
      " [0 0 1 1 0 0 1 1 1 0 0 0 0 1 1 0 0 0 1 0]\n",
      " [1 0 0 1 0 1 0 1 0 1 0 0 1 1 0 0 0 0 0 0]\n",
      " [0 1 0 1 0 1 1 0 1 1 0 0 1 0 0 0 1 0 0 1]\n",
      " [0 0 0 0 1 0 0 0 0 0 0 0 1 0 1 0 1 1 0 0]\n",
      " [0 1 0 1 0 0 0 0 0 0 0 0 0 0 1 0 1 1 0 0]\n",
      " [0 0 0 0 0 1 0 0 0 0 1 0 0 0 1 0 1 1 0 1]\n",
      " [0 1 0 0 1 0 1 0 0 1 1 0 1 0 0 0 1 0 0 0]\n",
      " [0 0 0 0 1 0 0 1 1 0 1 0 0 0 0 1 0 0 1 0]\n",
      " [1 0 0 0 0 0 0 0 0 0 1 1 0 0 0 0 0 0 0 0]\n",
      " [0 1 1 0 1 1 1 0 1 0 0 0 1 0 1 1 0 0 0 0]\n",
      " [1 1 0 0 0 0 0 1 1 0 1 0 1 1 0 1 0 0 0 1]\n",
      " [0 0 0 0 0 0 0 1 1 1 0 1 1 1 1 0 0 1 0 0]\n",
      " [1 0 0 0 0 0 0 0 0 0 0 0 0 1 1 0 0 1 0 0]\n",
      " [0 0 0 1 0 1 0 1 0 1 0 0 0 0 0 0 0 0 0 0]\n",
      " [0 0 0 0 0 1 0 0 0 1 0 1 0 1 0 0 1 1 1 1]\n",
      " [0 0 0 0 1 0 0 1 0 0 0 0 0 0 1 0 0 1 1 0]]\n"
     ]
    }
   ],
   "source": [
    "N = 20\n",
    "init_state = np.random.choice([0, 1], size=(N, N), p=[0.7, 0.3])\n",
    "print(init_state)"
   ]
  },
  {
   "cell_type": "code",
   "execution_count": 33,
   "metadata": {
    "scrolled": true
   },
   "outputs": [
    {
     "name": "stdout",
     "output_type": "stream",
     "text": [
      "117\n",
      "117\n",
      "113\n",
      "115\n",
      "115\n",
      "113\n",
      "113\n",
      "117\n",
      "115\n",
      "115\n",
      "113\n",
      "115\n",
      "115\n",
      "115\n",
      "111\n",
      "115\n",
      "113\n",
      "115\n",
      "117\n",
      "111\n",
      "115\n",
      "115\n",
      "119\n",
      "113\n",
      "113\n",
      "115\n",
      "115\n",
      "111\n",
      "117\n",
      "117\n",
      "115\n",
      "117\n",
      "117\n",
      "115\n",
      "115\n",
      "115\n",
      "115\n",
      "117\n",
      "115\n",
      "119\n",
      "117\n",
      "117\n",
      "111\n",
      "115\n",
      "113\n",
      "117\n",
      "113\n",
      "113\n",
      "117\n",
      "115\n",
      "115\n",
      "113\n",
      "115\n",
      "115\n",
      "113\n",
      "119\n",
      "115\n",
      "115\n",
      "113\n",
      "113\n",
      "115\n",
      "113\n",
      "117\n",
      "117\n",
      "113\n",
      "115\n",
      "113\n",
      "115\n",
      "115\n",
      "115\n",
      "113\n",
      "115\n",
      "117\n",
      "115\n",
      "115\n",
      "113\n",
      "115\n",
      "113\n",
      "119\n",
      "113\n",
      "113\n",
      "115\n",
      "115\n",
      "113\n",
      "113\n",
      "113\n",
      "111\n",
      "117\n",
      "119\n",
      "111\n",
      "113\n",
      "113\n",
      "117\n",
      "115\n",
      "117\n",
      "113\n",
      "113\n",
      "113\n",
      "117\n",
      "113\n",
      "CPU times: user 4.72 s, sys: 197 ms, total: 4.91 s\n",
      "Wall time: 4.81 s\n"
     ]
    }
   ],
   "source": [
    "%%time\n",
    "states = []\n",
    "for _ in range(100):\n",
    "    updated_state = bfh_algo(init_state)\n",
    "    if updated_state.tolist() not in states:\n",
    "        print(np.sum(init_state != updated_state))\n",
    "        states.append(updated_state.tolist())"
   ]
  },
  {
   "cell_type": "code",
   "execution_count": 31,
   "metadata": {},
   "outputs": [
    {
     "data": {
      "text/plain": [
       "84"
      ]
     },
     "execution_count": 31,
     "metadata": {},
     "output_type": "execute_result"
    }
   ],
   "source": [
    "len(states)"
   ]
  },
  {
   "cell_type": "code",
   "execution_count": 34,
   "metadata": {},
   "outputs": [
    {
     "data": {
      "text/plain": [
       "[[0, 0, 0, 0, 0, 0, 0, 1, 0, 0, 0, 0, 0, 0, 0, 0, 0, 0, 0, 0],\n",
       " [0, 0, 0, 0, 0, 0, 0, 0, 0, 1, 0, 0, 0, 0, 0, 0, 0, 0, 0, 0],\n",
       " [0, 0, 0, 0, 0, 0, 0, 0, 0, 0, 0, 1, 0, 0, 0, 0, 0, 0, 0, 0],\n",
       " [0, 0, 0, 0, 0, 0, 0, 0, 0, 0, 0, 0, 0, 0, 0, 1, 0, 0, 0, 0],\n",
       " [0, 0, 0, 0, 0, 0, 0, 0, 0, 0, 0, 0, 0, 0, 0, 0, 1, 0, 0, 0],\n",
       " [0, 0, 0, 0, 0, 0, 0, 0, 0, 0, 0, 0, 1, 0, 0, 0, 0, 0, 0, 0],\n",
       " [0, 1, 0, 0, 0, 0, 0, 0, 0, 0, 0, 0, 0, 0, 0, 0, 0, 0, 0, 0],\n",
       " [0, 0, 0, 0, 0, 0, 0, 0, 0, 0, 0, 0, 0, 0, 1, 0, 0, 0, 0, 0],\n",
       " [0, 0, 0, 0, 0, 0, 0, 0, 0, 0, 0, 0, 0, 0, 0, 0, 0, 1, 0, 0],\n",
       " [0, 0, 0, 0, 0, 0, 0, 0, 0, 0, 1, 0, 0, 0, 0, 0, 0, 0, 0, 0],\n",
       " [0, 0, 0, 0, 0, 0, 1, 0, 0, 0, 0, 0, 0, 0, 0, 0, 0, 0, 0, 0],\n",
       " [0, 0, 0, 0, 0, 1, 0, 0, 0, 0, 0, 0, 0, 0, 0, 0, 0, 0, 0, 0],\n",
       " [1, 0, 0, 0, 0, 0, 0, 0, 0, 0, 0, 0, 0, 0, 0, 0, 0, 0, 0, 0],\n",
       " [0, 0, 1, 0, 0, 0, 0, 0, 0, 0, 0, 0, 0, 0, 0, 0, 0, 0, 0, 0],\n",
       " [0, 0, 0, 0, 0, 0, 0, 0, 1, 0, 0, 0, 0, 0, 0, 0, 0, 0, 0, 0],\n",
       " [0, 0, 0, 0, 0, 0, 0, 0, 0, 0, 0, 0, 0, 0, 0, 0, 0, 0, 0, 1],\n",
       " [0, 0, 0, 0, 0, 0, 0, 0, 0, 0, 0, 0, 0, 1, 0, 0, 0, 0, 0, 0],\n",
       " [0, 0, 0, 1, 0, 0, 0, 0, 0, 0, 0, 0, 0, 0, 0, 0, 0, 0, 0, 0],\n",
       " [0, 0, 0, 0, 0, 0, 0, 0, 0, 0, 0, 0, 0, 0, 0, 0, 0, 0, 1, 0],\n",
       " [0, 0, 0, 0, 1, 0, 0, 0, 0, 0, 0, 0, 0, 0, 0, 0, 0, 0, 0, 0]]"
      ]
     },
     "execution_count": 34,
     "metadata": {},
     "output_type": "execute_result"
    }
   ],
   "source": [
    "states[0]"
   ]
  },
  {
   "cell_type": "code",
   "execution_count": 50,
   "metadata": {
    "scrolled": true
   },
   "outputs": [
    {
     "name": "stdout",
     "output_type": "stream",
     "text": [
      "[[0 1 0 0]\n",
      " [0 0 0 1]\n",
      " [1 0 1 1]\n",
      " [0 0 0 1]]\n",
      "max: 2 3\n",
      "[[0. 0. 0. 2.]\n",
      " [0. 0. 0. 2.]\n",
      " [2. 2. 2. 4.]\n",
      " [0. 0. 0. 2.]]\n",
      "max: 1 3\n",
      "[[0. 0. 0. 1.]\n",
      " [0. 0. 0. 1.]\n",
      " [1. 1. 1. 2.]\n",
      " [0. 0. 0. 1.]]\n",
      "min: 1 0\n",
      "[[ 0.  0.  0.  0.]\n",
      " [-1. -1. -1. -1.]\n",
      " [ 1.  1.  1.  1.]\n",
      " [ 0.  0.  0.  0.]]\n",
      "max: 2 0\n",
      "[[1. 0. 0. 0.]\n",
      " [1. 0. 0. 0.]\n",
      " [2. 1. 1. 1.]\n",
      " [1. 0. 0. 0.]]\n",
      "[[0 1 0 0]\n",
      " [1 0 0 0]\n",
      " [0 0 1 0]\n",
      " [0 0 0 1]]\n"
     ]
    }
   ],
   "source": [
    "N = 4\n",
    "init_state = np.random.choice([0, 1], size=(N, N), p=[0.7, 0.3])\n",
    "print(init_state)\n",
    "\n",
    "# print(calc_vios(init_state))\n",
    "\n",
    "# updated_state = bfh_algo(init_state)\n",
    "# print(updated_state)\n",
    "\n",
    "updated_state = bfh_algo_r(init_state)\n",
    "print(updated_state)"
   ]
  },
  {
   "cell_type": "code",
   "execution_count": null,
   "metadata": {},
   "outputs": [],
   "source": []
  }
 ],
 "metadata": {
  "kernelspec": {
   "display_name": "Python 3",
   "language": "python",
   "name": "python3"
  },
  "language_info": {
   "codemirror_mode": {
    "name": "ipython",
    "version": 3
   },
   "file_extension": ".py",
   "mimetype": "text/x-python",
   "name": "python",
   "nbconvert_exporter": "python",
   "pygments_lexer": "ipython3",
   "version": "3.9.1"
  }
 },
 "nbformat": 4,
 "nbformat_minor": 4
}
