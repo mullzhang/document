{
 "metadata": {
  "language_info": {
   "codemirror_mode": {
    "name": "ipython",
    "version": 3
   },
   "file_extension": ".py",
   "mimetype": "text/x-python",
   "name": "python",
   "nbconvert_exporter": "python",
   "pygments_lexer": "ipython3",
   "version": 3
  },
  "orig_nbformat": 4
 },
 "nbformat": 4,
 "nbformat_minor": 2,
 "cells": [
  {
   "source": [
    "# Counting QPU Access in Qbsolv"
   ],
   "cell_type": "markdown",
   "metadata": {}
  },
  {
   "cell_type": "code",
   "execution_count": null,
   "metadata": {},
   "outputs": [],
   "source": [
    "!pip install dwave-ocean-sdk"
   ]
  },
  {
   "cell_type": "code",
   "execution_count": null,
   "metadata": {},
   "outputs": [],
   "source": [
    "import logging\n",
    "import itertools\n",
    "import random\n",
    "import re\n",
    "from datetime import datetime\n",
    "\n",
    "import dimod\n",
    "from dwave.system import DWaveCliqueSampler\n",
    "from dwave_qbsolv import QBSolv"
   ]
  },
  {
   "cell_type": "code",
   "execution_count": null,
   "metadata": {},
   "outputs": [],
   "source": [
    "logger = logging.getLogger('dwave_qbsolv.qbsolv_binding')\n",
    "logger.setLevel(logging.DEBUG)\n",
    "\n",
    "ch = logging.StreamHandler()\n",
    "ch.setLevel(logging.INFO)\n",
    "ch_formatter = logging.Formatter('[%(asctime)s] %(message)s')\n",
    "ch.setFormatter(ch_formatter)\n",
    "logger.addHandler(ch)"
   ]
  },
  {
   "cell_type": "code",
   "execution_count": null,
   "metadata": {},
   "outputs": [],
   "source": [
    "def create_problem(qubo_size):\n",
    "    Q = {t: random.uniform(-1, 1)\n",
    "         for t in itertools.product(range(qubo_size), repeat=2)}\n",
    "    return dimod.BinaryQuadraticModel.from_qubo(Q)"
   ]
  },
  {
   "cell_type": "code",
   "execution_count": null,
   "metadata": {},
   "outputs": [],
   "source": [
    "qubo_size = 120\n",
    "bqm = create_problem(qubo_size)\n",
    "\n",
    "config = dict(token='YOUR_TOKEN', solver='DW_2000Q_6')\n",
    "sampler = QBSolv()"
   ]
  },
  {
   "cell_type": "code",
   "execution_count": null,
   "metadata": {},
   "outputs": [],
   "source": [
    "subqubo_size = 30\n",
    "num_repeats = 1\n",
    "num_iters = 3\n",
    "\n",
    "# 実行のたびに、ログを分けて出力\n",
    "for n in range(num_iters):\n",
    "    logger.info(f'Iteration: {n}')\n",
    "\n",
    "    log_file = datetime.now().strftime('%y%m%d%H%M%S%f') + '.log'\n",
    "    fh = logging.FileHandler(log_file)\n",
    "    fh.setLevel(logging.DEBUG)\n",
    "    fh_formatter = logging.Formatter(\n",
    "        '[%(asctime)s][%(filename)s:%(lineno)d] %(message)s'\n",
    "    )\n",
    "    fh.setFormatter(fh_formatter)\n",
    "    logger.addHandler(fh)\n",
    "\n",
    "    dw_sampler = DWaveCliqueSampler(**config)\n",
    "    sampleset = sampler.sample(bqm, num_repeats=num_repeats,\n",
    "                                solver=dw_sampler,\n",
    "                                solver_limit=subqubo_size)\n",
    "\n",
    "    logger.removeHandler(fh)\n",
    "\n",
    "    with open(log_file) as f:\n",
    "        log_text = f.read()\n",
    "\n",
    "    match = re.findall('solver_callback invoked', log_text)\n",
    "    num_qpu_access = len(match)\n",
    "    logger.info(f'Number of QPU access: {num_qpu_access}')"
   ]
  }
 ]
}