{
 "cells": [
  {
   "cell_type": "markdown",
   "metadata": {},
   "source": [
    "# Chain-Break Resolution\n",
    "\n",
    "- majority_vote (default)\n",
    "- weighted_random\n",
    "- discard\n",
    "- MinimizeEnergy"
   ]
  },
  {
   "cell_type": "code",
   "execution_count": 1,
   "metadata": {
    "ExecuteTime": {
     "end_time": "2019-07-19T12:13:40.540703Z",
     "start_time": "2019-07-19T12:13:40.532031Z"
    }
   },
   "outputs": [],
   "source": [
    "import random\n",
    "\n",
    "# Problem instance\n",
    "N = 50\n",
    "h = {}\n",
    "J = {(i, j): random.randint(-1, 1) for i in range(N) for j in range(i+1, N)}\n",
    "adjacency = {k: 1.0 for k in J.keys()}"
   ]
  },
  {
   "cell_type": "code",
   "execution_count": 2,
   "metadata": {
    "ExecuteTime": {
     "end_time": "2019-07-19T12:13:47.950415Z",
     "start_time": "2019-07-19T12:13:40.859885Z"
    }
   },
   "outputs": [],
   "source": [
    "from minorminer import find_embedding\n",
    "from dwave.embedding import embed_ising\n",
    "from dwave.system import DWaveSampler\n",
    "\n",
    "# Embed the problem\n",
    "dw_sampler = DWaveSampler()\n",
    "embedding = find_embedding(adjacency, dw_sampler.edgelist)\n",
    "h0, emb_j = embed_ising(h, J, embedding, dw_sampler.adjacency)"
   ]
  },
  {
   "cell_type": "code",
   "execution_count": 3,
   "metadata": {
    "ExecuteTime": {
     "end_time": "2019-07-19T12:13:51.751191Z",
     "start_time": "2019-07-19T12:13:47.955913Z"
    }
   },
   "outputs": [],
   "source": [
    "from dwave.cloud import Client\n",
    "\n",
    "# Solve the problem\n",
    "with Client.from_config() as client:\n",
    "    solver = client.get_solver()\n",
    "    computation = solver.sample_ising(h0, emb_j, num_reads=10)"
   ]
  },
  {
   "cell_type": "code",
   "execution_count": 4,
   "metadata": {
    "ExecuteTime": {
     "end_time": "2019-07-19T12:13:51.766305Z",
     "start_time": "2019-07-19T12:13:51.754158Z"
    }
   },
   "outputs": [],
   "source": [
    "import dimod\n",
    "\n",
    "bqm = dimod.BinaryQuadraticModel.from_ising(h, J)\n",
    "chains = [embedding[k] for k in embedding.keys()]"
   ]
  },
  {
   "cell_type": "code",
   "execution_count": 5,
   "metadata": {
    "ExecuteTime": {
     "end_time": "2019-07-19T12:13:51.928606Z",
     "start_time": "2019-07-19T12:13:51.771433Z"
    }
   },
   "outputs": [],
   "source": [
    "from dwave.embedding.chain_breaks import majority_vote, discard, weighted_random, broken_chains, MinimizeEnergy\n",
    "\n",
    "# Unembed the problem\n",
    "cbm = MinimizeEnergy(bqm, embedding)\n",
    "unembedded_minimize_energy, idx_minimize_energy = cbm(computation.samples, chains)"
   ]
  },
  {
   "cell_type": "code",
   "execution_count": 6,
   "metadata": {
    "ExecuteTime": {
     "end_time": "2019-07-19T12:13:51.954665Z",
     "start_time": "2019-07-19T12:13:51.930615Z"
    }
   },
   "outputs": [],
   "source": [
    "unembedded_majority_vote, idx_majority_vote = majority_vote(computation.samples, chains)\n",
    "unembedded_weighted_random, idx_weighted_random = weighted_random(computation.samples, chains)\n",
    "unembedded_discard, idx_discard = discard(computation.samples, chains)"
   ]
  },
  {
   "cell_type": "code",
   "execution_count": 11,
   "metadata": {
    "ExecuteTime": {
     "end_time": "2019-07-19T12:15:08.375474Z",
     "start_time": "2019-07-19T12:15:08.082883Z"
    }
   },
   "outputs": [
    {
     "data": {
      "image/png": "[encoded data removed]",
      "text/plain": [
       "<Figure size 432x288 with 1 Axes>"
      ]
     },
     "metadata": {
      "needs_background": "light"
     },
     "output_type": "display_data"
    }
   ],
   "source": [
    "import matplotlib.pyplot as plt\n",
    "%matplotlib inline\n",
    "\n",
    "plt.hist([dimod.ising_energy(sample, h, J) for sample in unembedded_majority_vote], alpha=0.7, label='majority vote')\n",
    "plt.hist([dimod.ising_energy(sample, h, J) for sample in unembedded_weighted_random], alpha=0.7, label='weighted random')\n",
    "plt.hist([dimod.ising_energy(sample, h, J) for sample in unembedded_minimize_energy], alpha=0.7, label='minimize energy')\n",
    "plt.hist([dimod.ising_energy(sample, h, J) for sample in unembedded_discard], alpha=0.7, label='discard')\n",
    "plt.xlabel('Energy')\n",
    "plt.ylabel('Frequency')\n",
    "plt.legend()\n",
    "plt.show()"
   ]
  },
  {
   "cell_type": "code",
   "execution_count": 12,
   "metadata": {
    "ExecuteTime": {
     "end_time": "2019-07-19T12:15:22.567826Z",
     "start_time": "2019-07-19T12:15:22.554330Z"
    },
    "scrolled": true
   },
   "outputs": [
    {
     "data": {
      "text/plain": [
       "array([[ True,  True,  True,  True,  True,  True,  True,  True,  True,\n",
       "         True,  True,  True, False, False,  True,  True,  True,  True,\n",
       "         True,  True, False,  True, False,  True,  True,  True,  True,\n",
       "        False,  True,  True,  True, False,  True,  True,  True,  True,\n",
       "         True,  True,  True,  True,  True,  True,  True,  True, False,\n",
       "         True,  True,  True,  True,  True],\n",
       "       [ True,  True,  True,  True,  True,  True,  True,  True,  True,\n",
       "         True,  True,  True,  True, False,  True,  True,  True,  True,\n",
       "        False,  True,  True,  True,  True,  True,  True,  True,  True,\n",
       "         True,  True,  True,  True,  True,  True, False,  True, False,\n",
       "         True,  True,  True,  True,  True, False,  True, False,  True,\n",
       "        False,  True, False, False,  True],\n",
       "       [ True,  True, False,  True,  True,  True,  True,  True,  True,\n",
       "         True,  True,  True,  True,  True, False,  True,  True,  True,\n",
       "         True,  True,  True,  True,  True,  True,  True, False,  True,\n",
       "         True,  True,  True,  True, False,  True,  True,  True,  True,\n",
       "         True,  True,  True,  True,  True,  True,  True,  True,  True,\n",
       "         True,  True,  True,  True,  True],\n",
       "       [ True,  True, False,  True,  True,  True,  True,  True,  True,\n",
       "         True, False,  True,  True, False,  True,  True,  True,  True,\n",
       "         True,  True, False,  True,  True,  True,  True,  True,  True,\n",
       "         True,  True,  True,  True, False,  True,  True,  True,  True,\n",
       "         True,  True,  True,  True, False,  True,  True,  True, False,\n",
       "         True,  True,  True,  True,  True],\n",
       "       [ True,  True, False,  True,  True,  True,  True,  True,  True,\n",
       "         True, False,  True,  True, False,  True,  True,  True,  True,\n",
       "         True,  True, False,  True,  True,  True,  True,  True,  True,\n",
       "         True,  True,  True,  True, False,  True,  True,  True,  True,\n",
       "         True,  True,  True,  True, False,  True,  True,  True, False,\n",
       "         True,  True,  True,  True,  True],\n",
       "       [ True,  True,  True, False,  True,  True,  True,  True,  True,\n",
       "         True,  True,  True,  True,  True,  True,  True,  True,  True,\n",
       "         True,  True,  True,  True, False,  True,  True,  True,  True,\n",
       "         True,  True,  True,  True,  True,  True,  True,  True,  True,\n",
       "         True,  True,  True,  True,  True, False,  True,  True,  True,\n",
       "         True,  True,  True,  True,  True],\n",
       "       [ True,  True,  True, False,  True,  True,  True, False,  True,\n",
       "         True,  True,  True, False,  True, False,  True,  True,  True,\n",
       "         True,  True,  True,  True, False,  True,  True,  True,  True,\n",
       "         True,  True,  True,  True,  True,  True,  True,  True,  True,\n",
       "        False,  True,  True,  True,  True,  True,  True,  True,  True,\n",
       "         True,  True,  True,  True,  True],\n",
       "       [ True,  True,  True,  True,  True,  True,  True,  True,  True,\n",
       "         True,  True,  True, False,  True,  True,  True, False,  True,\n",
       "         True,  True,  True,  True, False,  True,  True,  True,  True,\n",
       "        False,  True, False,  True,  True,  True,  True,  True,  True,\n",
       "         True,  True,  True,  True,  True,  True,  True,  True, False,\n",
       "         True,  True,  True,  True, False],\n",
       "       [ True,  True, False,  True,  True,  True,  True,  True,  True,\n",
       "         True,  True,  True, False,  True,  True, False,  True,  True,\n",
       "         True,  True,  True,  True,  True,  True,  True,  True, False,\n",
       "         True,  True,  True,  True, False, False,  True,  True,  True,\n",
       "         True,  True,  True,  True,  True,  True,  True,  True,  True,\n",
       "         True,  True,  True,  True,  True],\n",
       "       [ True,  True,  True,  True,  True,  True,  True,  True,  True,\n",
       "         True,  True,  True,  True,  True,  True,  True,  True,  True,\n",
       "         True,  True,  True,  True, False,  True,  True,  True,  True,\n",
       "         True,  True,  True,  True,  True,  True,  True,  True,  True,\n",
       "         True,  True,  True,  True,  True,  True,  True,  True,  True,\n",
       "         True,  True,  True, False,  True]])"
      ]
     },
     "execution_count": 12,
     "metadata": {},
     "output_type": "execute_result"
    }
   ],
   "source": [
    "broken_chains(computation.samples, chains)"
   ]
  },
  {
   "cell_type": "code",
   "execution_count": null,
   "metadata": {},
   "outputs": [],
   "source": []
  },
  {
   "cell_type": "code",
   "execution_count": 13,
   "metadata": {
    "ExecuteTime": {
     "end_time": "2019-07-19T12:15:24.531894Z",
     "start_time": "2019-07-19T12:15:24.511092Z"
    }
   },
   "outputs": [
    {
     "data": {
      "text/plain": [
       "SampleSet(rec.array([([0, 1, 0, 0, 1, 0, 0, 0, 0, 0, 0, 0, 1, 0, 0, 0, 1, 1, 0, 0, 1, 0, 1, 1, 0, 0, 0, 0, 0, 0, 0, 1, 1, 1, 1, 0, 0, 0, 0, 0, 1, 0, 0, 0, 0, 0, 0, 0, 1, 0], -17., 1),\n",
       "           ([0, 0, 0, 1, 1, 0, 0, 0, 1, 0, 0, 0, 0, 0, 0, 0, 0, 0, 0, 0, 0, 0, 0, 1, 0, 0, 1, 0, 0, 0, 0, 0, 0, 1, 0, 0, 0, 0, 0, 0, 0, 1, 0, 0, 0, 0, 0, 1, 1, 0],  -7., 1),\n",
       "           ([0, 0, 0, 1, 0, 0, 0, 0, 0, 0, 1, 0, 0, 1, 0, 0, 0, 0, 0, 0, 0, 0, 0, 0, 0, 1, 1, 0, 0, 0, 0, 0, 1, 0, 0, 0, 1, 0, 0, 0, 0, 0, 1, 0, 1, 0, 0, 0, 0, 0],  -6., 1),\n",
       "           ([0, 1, 1, 1, 1, 0, 0, 0, 0, 0, 0, 0, 0, 0, 0, 0, 1, 1, 1, 0, 1, 0, 0, 0, 0, 0, 0, 0, 1, 0, 0, 1, 0, 0, 0, 0, 0, 0, 0, 0, 1, 0, 0, 0, 0, 0, 0, 0, 0, 0], -20., 1),\n",
       "           ([0, 1, 1, 0, 1, 0, 0, 0, 0, 0, 0, 0, 0, 0, 0, 0, 1, 1, 1, 0, 1, 0, 0, 0, 0, 0, 0, 0, 1, 0, 0, 1, 0, 0, 0, 0, 0, 0, 0, 0, 1, 0, 0, 0, 0, 0, 0, 0, 0, 0], -19., 1),\n",
       "           ([0, 0, 0, 0, 0, 0, 0, 0, 0, 0, 0, 0, 0, 1, 1, 0, 0, 1, 1, 1, 0, 1, 0, 0, 0, 0, 0, 1, 1, 1, 0, 0, 0, 0, 0, 1, 0, 0, 0, 0, 0, 0, 0, 0, 0, 1, 0, 0, 0, 0], -10., 1),\n",
       "           ([0, 0, 0, 0, 1, 0, 1, 0, 0, 1, 1, 0, 1, 0, 1, 1, 1, 1, 0, 0, 0, 0, 1, 1, 0, 0, 0, 0, 0, 1, 0, 1, 0, 0, 0, 0, 0, 0, 0, 0, 0, 1, 0, 0, 0, 0, 0, 0, 0, 0], -22., 1),\n",
       "           ([0, 1, 0, 0, 1, 0, 1, 0, 0, 0, 1, 0, 1, 0, 0, 0, 1, 1, 1, 0, 1, 0, 1, 1, 0, 0, 0, 0, 1, 0, 0, 1, 0, 0, 0, 0, 1, 0, 0, 0, 1, 0, 0, 1, 0, 0, 1, 1, 1, 0], -34., 1),\n",
       "           ([0, 0, 0, 0, 0, 0, 1, 0, 0, 0, 1, 0, 1, 1, 0, 0, 0, 0, 0, 0, 1, 0, 0, 0, 0, 1, 1, 0, 0, 0, 0, 0, 1, 0, 0, 0, 0, 0, 0, 0, 0, 0, 0, 0, 1, 1, 0, 0, 0, 0],  -4., 1),\n",
       "           ([0, 0, 0, 0, 0, 0, 0, 0, 0, 0, 1, 0, 0, 0, 0, 0, 0, 0, 0, 0, 1, 0, 0, 0, 0, 1, 0, 0, 0, 0, 0, 0, 0, 0, 0, 0, 0, 0, 1, 0, 0, 1, 0, 0, 1, 1, 0, 0, 0, 0],  -8., 1)],\n",
       "          dtype=[('sample', 'i1', (50,)), ('energy', '<f8'), ('num_occurrences', '<i8')]), [0, 1, 2, 3, 4, 5, 6, 7, 8, 9, 10, 11, 12, 13, 14, 15, 16, 17, 18, 19, 20, 21, 22, 23, 24, 25, 26, 27, 28, 29, 30, 31, 32, 33, 34, 35, 36, 37, 38, 39, 40, 41, 42, 43, 44, 45, 46, 47, 48, 49], {}, 'SPIN')"
      ]
     },
     "execution_count": 13,
     "metadata": {},
     "output_type": "execute_result"
    }
   ],
   "source": [
    "from dwave.embedding import unembed_sampleset\n",
    "\n",
    "embedded = dimod.SampleSet.from_samples(\n",
    "    computation.samples, dimod.SPIN, computation.energies)\n",
    "unembed_sampleset(embedded, embedding, bqm)  # default: majority_vote\n",
    "# unembed_sampleset(embedded, embedding, bqm, chain_break_method=majority_vote)\n",
    "# unembed_sampleset(embedded, embedding, bqm, chain_break_method=weighted_random)\n",
    "# unembed_sampleset(embedded, embedding, bqm, chain_break_method=discard)"
   ]
  },
  {
   "cell_type": "code",
   "execution_count": 16,
   "metadata": {
    "ExecuteTime": {
     "end_time": "2019-07-19T12:34:38.074810Z",
     "start_time": "2019-07-19T12:34:37.847401Z"
    }
   },
   "outputs": [
    {
     "data": {
      "text/plain": [
       "SampleSet(rec.array([([ 1, -1, -1, -1,  1,  1, -1,  1, -1,  1,  1, -1,  1, -1, -1, -1, -1,  1, -1, -1,  1, -1,  1,  1,  1,  1, -1, -1, -1,  1, -1,  1, -1,  1,  1, -1, -1, -1, -1,  1,  1,  1,  1,  1, -1, -1, -1,  1,  1,  1], -179., 1),\n",
       "           ([-1, -1, -1, -1,  1,  1, -1,  1, -1, -1,  1, -1,  1, -1,  1, -1,  1,  1, -1, -1,  1, -1,  1,  1, -1,  1,  1,  1,  1,  1, -1, -1, -1,  1,  1, -1, -1,  1, -1,  1, -1,  1, -1, -1, -1, -1,  1,  1,  1,  1], -179., 1),\n",
       "           ([-1, -1, -1,  1, -1, -1, -1,  1,  1, -1,  1, -1, -1, -1, -1,  1, -1, -1, -1,  1, -1, -1,  1,  1, -1,  1,  1, -1,  1, -1,  1, -1, -1,  1,  1, -1,  1,  1,  1, -1,  1,  1,  1, -1,  1, -1,  1,  1,  1, -1], -187., 1),\n",
       "           ([ 1,  1,  1, -1,  1, -1, -1, -1, -1,  1, -1,  1,  1, -1,  1, -1,  1,  1,  1, -1,  1,  1,  1,  1,  1, -1, -1,  1,  1,  1, -1,  1,  1, -1,  1,  1, -1, -1, -1,  1,  1, -1, -1,  1, -1,  1, -1, -1, -1,  1], -193., 1),\n",
       "           ([ 1,  1,  1, -1,  1, -1, -1, -1, -1,  1, -1,  1,  1, -1,  1, -1,  1,  1,  1, -1,  1,  1,  1,  1,  1, -1, -1,  1,  1,  1, -1,  1,  1, -1,  1,  1, -1, -1, -1,  1,  1, -1, -1,  1, -1,  1, -1, -1, -1,  1], -193., 1),\n",
       "           ([ 1,  1,  1, -1, -1,  1,  1, -1,  1,  1, -1,  1,  1,  1,  1,  1,  1, -1,  1,  1, -1,  1, -1, -1,  1, -1,  1,  1, -1,  1,  1, -1,  1, -1, -1,  1, -1, -1, -1, -1, -1, -1,  1,  1,  1,  1,  1, -1, -1, -1], -171., 1),\n",
       "           ([ 1,  1,  1, -1,  1,  1, -1, -1, -1,  1,  1,  1,  1, -1,  1, -1, -1,  1, -1, -1,  1,  1,  1,  1,  1, -1, -1,  1, -1,  1, -1,  1, -1,  1,  1,  1, -1, -1, -1,  1,  1, -1, -1,  1, -1, -1, -1,  1,  1,  1], -205., 1),\n",
       "           ([-1, -1,  1,  1,  1, -1,  1,  1, -1,  1,  1, -1,  1,  1, -1,  1,  1, -1,  1, -1,  1, -1,  1,  1, -1, -1, -1, -1,  1, -1,  1,  1,  1, -1, -1,  1,  1,  1,  1,  1,  1,  1,  1,  1, -1,  1,  1, -1, -1, -1], -185., 1),\n",
       "           ([-1, -1, -1,  1, -1,  1,  1,  1,  1, -1,  1, -1,  1,  1, -1, -1,  1, -1, -1,  1, -1, -1, -1, -1, -1,  1,  1, -1, -1,  1,  1, -1,  1,  1, -1, -1,  1,  1,  1, -1, -1,  1,  1, -1,  1,  1,  1,  1,  1, -1], -175., 1),\n",
       "           ([-1, -1, -1,  1, -1, -1,  1,  1,  1, -1, -1,  1, -1,  1, -1,  1,  1, -1,  1,  1, -1,  1, -1, -1, -1, -1,  1, -1,  1, -1,  1, -1,  1, -1, -1, -1,  1,  1,  1, -1, -1,  1,  1, -1,  1,  1,  1, -1, -1, -1], -203., 1)],\n",
       "          dtype=[('sample', 'i1', (50,)), ('energy', '<f8'), ('num_occurrences', '<i8')]), [0, 1, 2, 3, 4, 5, 6, 7, 8, 9, 10, 11, 12, 13, 14, 15, 16, 17, 18, 19, 20, 21, 22, 23, 24, 25, 26, 27, 28, 29, 30, 31, 32, 33, 34, 35, 36, 37, 38, 39, 40, 41, 42, 43, 44, 45, 46, 47, 48, 49], {}, 'SPIN')"
      ]
     },
     "execution_count": 16,
     "metadata": {},
     "output_type": "execute_result"
    }
   ],
   "source": [
    "unembed_sampleset(embedded, embedding, bqm, chain_break_method=cbm)  # cbm = MinimizeEnergy(bqm, embedding)"
   ]
  },
  {
   "cell_type": "code",
   "execution_count": null,
   "metadata": {},
   "outputs": [],
   "source": []
  }
 ],
 "metadata": {
  "_draft": {
   "nbviewer_url": "https://gist.github.com/5d03bf0946b9deb1f4cbc24b90077ae4"
  },
  "gist": {
   "data": {
    "description": "How to resolve chain break in D-Wave machine.",
    "public": false
   },
   "id": "5d03bf0946b9deb1f4cbc24b90077ae4"
  },
  "kernelspec": {
   "display_name": "Python 3",
   "language": "python",
   "name": "python3"
  },
  "language_info": {
   "codemirror_mode": {
    "name": "ipython",
    "version": 3
   },
   "file_extension": ".py",
   "mimetype": "text/x-python",
   "name": "python",
   "nbconvert_exporter": "python",
   "pygments_lexer": "ipython3",
   "version": "3.9.1"
  },
  "toc": {
   "base_numbering": 1,
   "nav_menu": {},
   "number_sections": true,
   "sideBar": true,
   "skip_h1_title": false,
   "title_cell": "Table of Contents",
   "title_sidebar": "Contents",
   "toc_cell": false,
   "toc_position": {},
   "toc_section_display": true,
   "toc_window_display": false
  }
 },
 "nbformat": 4,
 "nbformat_minor": 4
}
