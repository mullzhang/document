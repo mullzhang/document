{
 "cells": [
  {
   "cell_type": "markdown",
   "id": "c9abc4a5-6d3a-477a-bb40-bc11f90a2179",
   "metadata": {},
   "source": [
    "# Successive substitution\n",
    "\n",
    "References:\n",
    "- https://cemodeling.hatenablog.com/entry/2020/08/01/213640\n",
    "- https://ocw.nagoya-u.jp/files/58/07.pdf"
   ]
  },
  {
   "cell_type": "code",
   "execution_count": 4,
   "id": "b3816578-b613-4f03-8b32-abf5821fbe5c",
   "metadata": {},
   "outputs": [
    {
     "data": {
      "text/plain": [
       "1.250005085698445"
      ]
     },
     "execution_count": 4,
     "metadata": {},
     "output_type": "execute_result"
    }
   ],
   "source": [
    "def f(x):\n",
    "    return 1.0/x - 0.8 + x\n",
    "\n",
    "x1 = 2\n",
    "err = 1e10\n",
    "while err > 1e-5:\n",
    "    x2 = f(x1)\n",
    "    err = abs(x1 - x2)\n",
    "    x1 = x2\n",
    "\n",
    "x1"
   ]
  },
  {
   "cell_type": "code",
   "execution_count": 5,
   "id": "b7d3c08c-8e2a-4cc0-8af8-24e1d2fe4a64",
   "metadata": {},
   "outputs": [
    {
     "data": {
      "text/plain": [
       "1.4142135625159447"
      ]
     },
     "execution_count": 5,
     "metadata": {},
     "output_type": "execute_result"
    }
   ],
   "source": [
    "def g(x):\n",
    "    return x**2 + x - 2\n",
    "\n",
    "x1 = 2\n",
    "x2 = g(x1)\n",
    "\n",
    "err = 1e10\n",
    "while err > 1e-5:\n",
    "    s = (g(x2) - g(x1))/(x2 - x1)\n",
    "    t = 1.0/(1.0 - s)\n",
    "    x3 = t * g(x2) + (1.0 - t) * x2\n",
    "    err = abs(x3 - x2)\n",
    "    x1 = x2\n",
    "    x2 = x3\n",
    "\n",
    "x2"
   ]
  },
  {
   "cell_type": "code",
   "execution_count": 6,
   "id": "44d085a6-95a7-49d9-a01d-fd7877d9f759",
   "metadata": {},
   "outputs": [
    {
     "data": {
      "text/plain": [
       "1.2499999999992144"
      ]
     },
     "execution_count": 6,
     "metadata": {},
     "output_type": "execute_result"
    }
   ],
   "source": [
    "x1 = 2\n",
    "x2 = f(x1)\n",
    "\n",
    "err = 1e10\n",
    "while err > 1e-5:\n",
    "    s = (f(x2) - f(x1))/(x2 - x1)\n",
    "    t = 1.0/(1.0 - s)\n",
    "    x3 = t * f(x2) + (1.0 - t) * x2\n",
    "    err = abs(x3 - x2)\n",
    "    x1 = x2\n",
    "    x2 = x3\n",
    "\n",
    "x2"
   ]
  }
 ],
 "metadata": {
  "kernelspec": {
   "display_name": "percep-adv-train",
   "language": "python",
   "name": "percep-adv-train"
  },
  "language_info": {
   "codemirror_mode": {
    "name": "ipython",
    "version": 3
   },
   "file_extension": ".py",
   "mimetype": "text/x-python",
   "name": "python",
   "nbconvert_exporter": "python",
   "pygments_lexer": "ipython3",
   "version": "3.9.4"
  },
  "widgets": {
   "application/vnd.jupyter.widget-state+json": {
    "state": {},
    "version_major": 2,
    "version_minor": 0
   }
  }
 },
 "nbformat": 4,
 "nbformat_minor": 5
}
