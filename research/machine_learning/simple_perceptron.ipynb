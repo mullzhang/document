{
 "cells": [
  {
   "cell_type": "markdown",
   "id": "a6ebb56d-588a-4f34-8037-9e67a33a13a9",
   "metadata": {
    "id": "a6ebb56d-588a-4f34-8037-9e67a33a13a9"
   },
   "source": [
    "# Storage capacity of a simple perceptron\n",
    "\n",
    "Storage capacity of machine learning models is anaylzed by a method in Stastical mechanics {cite}`gardner1988`."
   ]
  },
  {
   "cell_type": "code",
   "execution_count": 1,
   "id": "e792b1da-0ec7-479c-9428-075869b79c22",
   "metadata": {
    "id": "e792b1da-0ec7-479c-9428-075869b79c22"
   },
   "outputs": [],
   "source": [
    "import numpy as np\n",
    "import matplotlib.pyplot as plt\n",
    "from scipy.special import erfc"
   ]
  },
  {
   "cell_type": "code",
   "execution_count": 2,
   "id": "61cf2498-f44f-4ade-9e91-5c9acf93a5bc",
   "metadata": {
    "executionInfo": {
     "elapsed": 237,
     "status": "ok",
     "timestamp": 1639807548014,
     "user": {
      "displayName": "丸山尚貴",
      "photoUrl": "https://lh3.googleusercontent.com/a/default-user=s64",
      "userId": "01785070009045385802"
     },
     "user_tz": -540
    },
    "id": "062fe01f-7feb-4127-8b25-1c39a40c79e8"
   },
   "outputs": [],
   "source": [
    "def H(x):\n",
    "    return erfc(x / np.sqrt(2)) * 0.5\n",
    "\n",
    "def H_1st_deriv(x):\n",
    "    return -np.exp(-x**2 / 2) / np.sqrt(2 * np.pi)\n",
    "\n",
    "def H_2nd_deriv(x):\n",
    "    return np.exp(-x**2 / 2) * x / np.sqrt(2 * np.pi)\n",
    "\n",
    "def saddle_point_equation(alpha, kappa=0.0, q_init=0.5,\n",
    "                          num_samples=100000, c=0.9, max_step=200):\n",
    "    q = q_init\n",
    "\n",
    "    step = 0\n",
    "    eps = 1e-8\n",
    "    error = 1e10\n",
    "    while error > eps:\n",
    "        step += 1\n",
    "        q_prev = q\n",
    "\n",
    "        # q\n",
    "        z = np.random.randn(num_samples)\n",
    "        x = (kappa - np.sqrt(q) * z) / np.sqrt(1 - q)\n",
    "        h = H(x)\n",
    "        indices = np.where(h != 0)[0]\n",
    "        h = h[indices]\n",
    "        x = x[indices]\n",
    "\n",
    "        h1 = H_1st_deriv(x)\n",
    "        h2 = H_2nd_deriv(x)\n",
    "        int_z = (h1 / h)**2 - h2 / h\n",
    "        q = alpha * np.mean(int_z)\n",
    "\n",
    "        # qtilde\n",
    "        qtilde = q / (1 - q)**2\n",
    "\n",
    "        # Update\n",
    "        q = (1 - c) * q + c * q_prev\n",
    "        error = abs(q - q_prev)\n",
    "        \n",
    "        Qtilde = (1 - 2*q) / (1 - q)**2\n",
    "\n",
    "        if q > 1.0:\n",
    "            q = 1.0\n",
    "            break\n",
    "        if max_step is not None and step >= max_step:\n",
    "            break\n",
    "\n",
    "    print(f'step={step}, Qtilde={Qtilde}, qtilde={qtilde}, q={q}')\n",
    "    return q"
   ]
  },
  {
   "cell_type": "code",
   "execution_count": 3,
   "id": "61c523f9-7033-49e5-ab0e-d254be2013d2",
   "metadata": {
    "id": "61c523f9-7033-49e5-ab0e-d254be2013d2",
    "outputId": "78d833ae-4f02-4777-972a-4d7e1e4a8bd8",
    "tags": []
   },
   "outputs": [
    {
     "name": "stdout",
     "output_type": "stream",
     "text": [
      "alpha=0.0\n",
      "step=1000, Qtilde=0.9999999995340407, qtilde=0.0, q=2.158562370532892e-05\n",
      "alpha=0.5\n",
      "step=801, Qtilde=0.5373326273852124, qtilde=1.1428611117978906, q=0.4048315426950762\n",
      "alpha=1.0\n",
      "step=1000, Qtilde=-20.574391619354625, qtilde=26.341073344259986, q=0.8228465636932442\n",
      "alpha=1.5\n",
      "step=210, Qtilde=-2387291405.2465324, qtilde=59.55624878953845, q=1.0\n",
      "alpha=2.0\n",
      "step=58, Qtilde=-2721684.4813690456, qtilde=146.29040847822128, q=1.0\n"
     ]
    }
   ],
   "source": [
    "params = dict(\n",
    "    num_samples=100000,\n",
    "    c=0.99,\n",
    "    max_step=1000,\n",
    ")\n",
    "\n",
    "alpha_list = [0.0, 0.5, 1.0, 1.5, 2.0]\n",
    "\n",
    "alpha_q_hists = {}\n",
    "for alpha in alpha_list:\n",
    "    print(f'alpha={alpha}')\n",
    "    q = saddle_point_equation(alpha, kappa=1.0, **params)\n",
    "    alpha_q_hists[alpha] = q"
   ]
  },
  {
   "cell_type": "code",
   "execution_count": 4,
   "id": "9b34722b-4a2a-4f2b-ad1c-7c0655cdf959",
   "metadata": {},
   "outputs": [
    {
     "data": {
      "image/png": "[encoded data removed]",
      "text/plain": [
       "<Figure size 432x288 with 1 Axes>"
      ]
     },
     "metadata": {
      "needs_background": "light"
     },
     "output_type": "display_data"
    }
   ],
   "source": [
    "plt.plot(alpha_list, list(alpha_q_hists.values()), marker='o', linestyle='--')\n",
    "plt.xlabel(r'$\\alpha$')\n",
    "plt.ylabel(r'$q$')\n",
    "plt.show()"
   ]
  },
  {
   "cell_type": "markdown",
   "id": "a3c5cd09-6412-46f6-8e0c-9d5f605d98ff",
   "metadata": {},
   "source": [
    "## Asymptotic form\n",
    "\n",
    "In $q \\rightarrow 1$,\n",
    "\n",
    "$$\n",
    "\\alpha_{\\mathrm{c}}(\\kappa)=\\left\\{\\int_{-\\kappa}^{\\infty} \\mathrm{D} y(\\kappa+y)^{2}\\right\\}^{-1}\n",
    "$$"
   ]
  },
  {
   "cell_type": "code",
   "execution_count": 5,
   "id": "3763f512-e5ff-4ead-824f-dd60aed15f23",
   "metadata": {},
   "outputs": [],
   "source": [
    "def critical_alpha(kappa, num_samples=100000):\n",
    "    y = np.random.randn(num_samples)\n",
    "    Dy = (kappa + np.where(-kappa <= y, y, 0))**2\n",
    "    return 1 / np.mean(Dy)"
   ]
  },
  {
   "cell_type": "code",
   "execution_count": 6,
   "id": "bae1cd58-16c2-409d-893d-de1bd08f134e",
   "metadata": {},
   "outputs": [],
   "source": [
    "kappa_list = np.linspace(0, 3, 50)\n",
    "\n",
    "alpha_c_hists = []\n",
    "for kappa in kappa_list:\n",
    "    alpha_c = critical_alpha(kappa)\n",
    "    alpha_c_hists.append(alpha_c)"
   ]
  },
  {
   "cell_type": "code",
   "execution_count": 7,
   "id": "35552b42-335d-468a-a107-5e1d69c49c03",
   "metadata": {},
   "outputs": [
    {
     "data": {
      "image/png": "[encoded data removed]",
      "text/plain": [
       "<Figure size 432x288 with 1 Axes>"
      ]
     },
     "metadata": {
      "needs_background": "light"
     },
     "output_type": "display_data"
    }
   ],
   "source": [
    "plt.plot(kappa_list, alpha_c_hists)\n",
    "plt.xlabel(r'$\\kappa$')\n",
    "plt.ylabel(r'$\\alpha_c(\\kappa)$')\n",
    "plt.show()"
   ]
  },
  {
   "cell_type": "markdown",
   "id": "ccff27f2-0b14-482b-bc29-048593232208",
   "metadata": {},
   "source": [
    "## References\n",
    "\n",
    "```{bibliography}\n",
    ":style: unsrtalpha\n",
    ":filter: docname in docnames\n",
    "```"
   ]
  }
 ],
 "metadata": {
  "colab": {
   "name": "perceptron.ipynb",
   "provenance": []
  },
  "kernelspec": {
   "display_name": "notes",
   "language": "python",
   "name": "notes"
  },
  "language_info": {
   "codemirror_mode": {
    "name": "ipython",
    "version": 3
   },
   "file_extension": ".py",
   "mimetype": "text/x-python",
   "name": "python",
   "nbconvert_exporter": "python",
   "pygments_lexer": "ipython3",
   "version": "3.9.4"
  },
  "widgets": {
   "application/vnd.jupyter.widget-state+json": {
    "state": {},
    "version_major": 2,
    "version_minor": 0
   }
  }
 },
 "nbformat": 4,
 "nbformat_minor": 5
}
