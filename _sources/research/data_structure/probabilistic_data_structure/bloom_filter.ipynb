{
 "cells": [
  {
   "cell_type": "markdown",
   "id": "fc409d15-3022-452e-82e5-87cb6e5c4f82",
   "metadata": {},
   "source": [
    "# Bloom filter\n",
    "\n",
    "## Reference\n",
    "\n",
    "- https://en.wikipedia.org/wiki/Bloom_filter\n",
    "- https://www.slideshare.net/kumagi/bloom-filter-4178952\n",
    "- https://kiririmode.hatenablog.jp/entry/20190214/1550131181\n",
    "- https://medium.com/blockchain-engineer-blog/bitcoin%E3%82%92%E6%94%AF%E3%81%88%E3%82%8B%E3%83%96%E3%83%AB%E3%83%BC%E3%83%A0%E3%83%95%E3%82%A3%E3%83%AB%E3%82%BF%E8%A7%A3%E8%AA%AC-87d5f6a0633d\n",
    "- https://www.sambaiz.net/article/326/\n",
    "- https://github.com/hiway/python-bloom-filter"
   ]
  },
  {
   "cell_type": "code",
   "execution_count": 12,
   "id": "549ee2f3-9d03-4ea0-a05a-8c205fbfc3e4",
   "metadata": {},
   "outputs": [],
   "source": [
    "import random\n",
    "import hashlib\n",
    "from collections.abc import Callable\n",
    "from typing import List\n",
    "\n",
    "import numpy as np"
   ]
  },
  {
   "cell_type": "code",
   "execution_count": 7,
   "id": "0f2bc733-af66-4206-a958-1ab61c4db3ea",
   "metadata": {},
   "outputs": [],
   "source": [
    "def make_hash(hash_func: Callable[[bytes], bytes], word: str, size: int) -> int:\n",
    "    m = hash_func(word.encode())\n",
    "    word_bytes = m.hexdigest().encode()\n",
    "    sum_ax = 1\n",
    "    for i, v in enumerate(word_bytes[0: -1: 2]):\n",
    "        sum_ax += v * (127 ** i)\n",
    "\n",
    "    return sum_ax % size\n",
    "\n",
    "def search(hash_funcs: List[Callable[[bytes], bytes]], target: str, size: int) -> bool:\n",
    "    for func in hash_funcs:\n",
    "        index = make_hash(func, target, size)\n",
    "        if not dicts[index]:\n",
    "            return False\n",
    "\n",
    "    return True"
   ]
  },
  {
   "cell_type": "code",
   "execution_count": 34,
   "id": "92f0dacc-b2f1-48ec-a34b-bd9da6d08272",
   "metadata": {},
   "outputs": [
    {
     "name": "stdout",
     "output_type": "stream",
     "text": [
      "['t', 'n', 'q', 'e', 'b', 'v', 'k', 'z', 'h', 'i']\n"
     ]
    }
   ],
   "source": [
    "alphabets = 'abcdefghijklmnopqrstuvwxyz'\n",
    "num_elements = 10\n",
    "\n",
    "elements = random.sample(alphabets, num_elements)\n",
    "print(elements)"
   ]
  },
  {
   "cell_type": "code",
   "execution_count": 35,
   "id": "ee2fd447-43af-41f9-9de8-77886e2daaf2",
   "metadata": {},
   "outputs": [],
   "source": [
    "hash_funcs = [hashlib.md5, hashlib.sha1, hashlib.sha224, hashlib.sha512]\n",
    "\n",
    "size = 2**15\n",
    "\n",
    "dicts = np.zeros(size, dtype=bool)\n",
    "for ele in elements:\n",
    "    for func in hash_funcs:\n",
    "        index = make_hash(func, ele, size)\n",
    "        dicts[index] = True"
   ]
  },
  {
   "cell_type": "code",
   "execution_count": 44,
   "id": "5fb045af-6cf5-49ed-aaf5-577f06a17eb1",
   "metadata": {},
   "outputs": [
    {
     "data": {
      "text/plain": [
       "False"
      ]
     },
     "execution_count": 44,
     "metadata": {},
     "output_type": "execute_result"
    }
   ],
   "source": [
    "search(hash_funcs, 'c', size)"
   ]
  },
  {
   "cell_type": "code",
   "execution_count": null,
   "id": "73fe5f02-d827-492d-9f48-4a247d18cc64",
   "metadata": {},
   "outputs": [],
   "source": []
  },
  {
   "cell_type": "code",
   "execution_count": null,
   "id": "158fbb15-6c91-43ff-86b3-68a34c7d309a",
   "metadata": {},
   "outputs": [],
   "source": []
  },
  {
   "cell_type": "code",
   "execution_count": null,
   "id": "88ee1ce2-1e98-4690-bb03-b807caa04613",
   "metadata": {},
   "outputs": [],
   "source": []
  }
 ],
 "metadata": {
  "kernelspec": {
   "display_name": "Python 3 (ipykernel)",
   "language": "python",
   "name": "python3"
  },
  "language_info": {
   "codemirror_mode": {
    "name": "ipython",
    "version": 3
   },
   "file_extension": ".py",
   "mimetype": "text/x-python",
   "name": "python",
   "nbconvert_exporter": "python",
   "pygments_lexer": "ipython3",
   "version": "3.9.5"
  }
 },
 "nbformat": 4,
 "nbformat_minor": 5
}
