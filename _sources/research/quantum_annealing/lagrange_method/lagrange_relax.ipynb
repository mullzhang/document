{
 "cells": [
  {
   "cell_type": "markdown",
   "id": "d8ea49fe-303c-4316-9a50-20c14d406b64",
   "metadata": {},
   "source": [
    "# Lagrange Relaxation\n",
    "\n",
    "Lagrange relaxation using annealing samplers {cite}`ohzeki2020`, called \"Ohzeki method\"."
   ]
  },
  {
   "cell_type": "code",
   "execution_count": 1,
   "id": "2275b5b5-1019-4ab0-836d-1509dee67eb7",
   "metadata": {},
   "outputs": [],
   "source": [
    "import dimod\n",
    "import numpy as np\n",
    "import matplotlib.pyplot as plt\n",
    "from tqdm import tqdm"
   ]
  },
  {
   "cell_type": "markdown",
   "id": "95d0a9fb-f670-45ae-ba24-479b48b14184",
   "metadata": {},
   "source": [
    "Original formulation:\n",
    "\n",
    "$$\n",
    "E(\\mathbf{x}) = \\mathbf{x}^{\\mathrm{T}} Q \\mathbf{x} + \\frac{1}{2} \\sum_{\\mu=1}^M \\lambda_{\\mu} \\left(\\sum_{i=1}^{N} F_{\\mu i} x_{\\mu i} - C_{\\mu}\\right)^{2}\n",
    "$$\n",
    "\n",
    "Lagrange relaxation:\n",
    "\n",
    "$$\n",
    "E(\\mathbf{x}, \\mathbf{\\nu}) = \\mathbf{x}^{\\mathrm{T}} Q \\mathbf{x} - \\sum_{\\mu=1}^M \\nu_{\\mu} \\left(\\sum_{i=1}^{N} F_{\\mu i} x_{\\mu i} - C_{\\mu}\\right)\n",
    "$$\n",
    "\n",
    "Algorithm:\n",
    "\n",
    "1. Sampling $\\mathbf{x}$ (with $\\mathbf{\\nu}$ fixed)\n",
    "\n",
    "$$\n",
    "E(\\mathbf{x}, \\mathbf{\\nu}) = \\mathbf{x}^{\\mathrm{T}} Q \\mathbf{x} - \\sum_{\\mu=1}^M \\nu_{\\mu} \\sum_{i=1}^{N} F_{\\mu i} x_{\\mu i}\n",
    "$$\n",
    "\n",
    "2. Update lagrange multipliers $\\mathbf{\\nu}$ (with $\\mathbf{x}$ fixed)\n",
    "\n",
    "$$\n",
    "\\nu_{k}^{t+1}=\\nu_{k}^{t}+\\eta\\left(C_{\\mu}-\\left\\langle \\sum_{i=1}^N F_{\\mu i} x_{\\mu i} \\right\\rangle\\right)\n",
    "$$\n",
    "\n",
    "3. Repeat steps 1 and 2"
   ]
  },
  {
   "cell_type": "code",
   "execution_count": 2,
   "id": "34492fa7-5f27-4b37-b265-4a4a263d7ccc",
   "metadata": {},
   "outputs": [],
   "source": [
    "class LagrangeRelax:\n",
    "    \"\"\"\n",
    "    Lagrange Relaxation using annealing samplers.\n",
    "\n",
    "    Attributes\n",
    "    ----------\n",
    "    cost : numpy.ndarray\n",
    "        Cost function (QUBO matrix).\n",
    "    constraints: list\n",
    "        Equality constraints.\n",
    "    \"\"\"\n",
    "\n",
    "    def __init__(self, cost, constraints):\n",
    "        \"\"\"\n",
    "        Parameters\n",
    "        ----------\n",
    "        cost : numpy.ndarray\n",
    "            Cost function (QUBO matrix).\n",
    "        constraints: list\n",
    "            Equality constraints.\n",
    "        \"\"\"\n",
    "        self.cost = cost\n",
    "        self.constraints = constraints\n",
    "\n",
    "    def _make_qubo_matrix(self, multipliers):\n",
    "        qubo = self.cost.copy()\n",
    "        for k, (Fk, Ck) in enumerate(self.constraints):\n",
    "            for i, Fki in Fk.items():\n",
    "                qubo[i, i] -= multipliers[k, i] * Fki\n",
    "        return qubo\n",
    "\n",
    "    def optimize(self, init_multipliers, eta, num_iters, sampler, **sample_params):\n",
    "        \"\"\"\n",
    "        Parameters\n",
    "        ----------\n",
    "        init_multipliers : numpy.ndarray\n",
    "            Initial multipliers, which shape is (# of vars, # of constraints).\n",
    "        eta: float\n",
    "            Step width of the gradient method.\n",
    "        num_iters: int\n",
    "            The number of iterations.\n",
    "        sampler: dimod.Sampler\n",
    "            Annealing sampler.\n",
    "        **sample_params:\n",
    "            Parameters of the above sampler.\n",
    "\n",
    "        Returns\n",
    "        -------\n",
    "        list\n",
    "            The history of multipliers updated in each iteration.\n",
    "        list\n",
    "            The history of sampleset attained by the sampler in each iteration.\n",
    "        \"\"\"\n",
    "        multipliers = init_multipliers.copy()\n",
    "\n",
    "        multipliers_hists = []\n",
    "        sampleset_hists = []\n",
    "        for _ in tqdm(np.arange(num_iters)):\n",
    "            # Sampling\n",
    "            qubo = self._make_qubo_matrix(multipliers)\n",
    "            sampleset = sampler.sample_qubo(qubo, **sample_params)\n",
    "\n",
    "            # Update multipliers\n",
    "            sample_mean = np.mean(sampleset.record.sample, axis=0)\n",
    "            for k, (Fk, Ck) in enumerate(self.constraints):\n",
    "                Fk_mean = np.sum([Fki * sample_mean[i] for i, Fki in Fk.items()])\n",
    "                multipliers[k] += eta * (Ck - Fk_mean)\n",
    "\n",
    "            multipliers_hists.append(multipliers.copy())\n",
    "            sampleset_hists.append(sampleset)\n",
    "\n",
    "            # TODO: Convergence test\n",
    "\n",
    "        return multipliers_hists, sampleset_hists"
   ]
  },
  {
   "cell_type": "markdown",
   "id": "84714c97-de0e-42db-8ab3-a8457df2581d",
   "metadata": {},
   "source": [
    "## Ex. K-hot constraint\n",
    "\n",
    "Original formulation:\n",
    "\n",
    "$$\n",
    "E(\\mathbf{x}) = \\mathbf{x}^{\\mathrm{T}} Q \\mathbf{x} + \\frac{\\lambda}{2} \\left(\\sum_{i=1}^{N} x_{i} - K\\right)^{2}\n",
    "$$\n",
    "\n",
    "Lagrange relaxation:\n",
    "\n",
    "$$\n",
    "E(\\mathbf{x}, \\mathbf{\\nu}) = \\mathbf{x}^{\\mathrm{T}} Q \\mathbf{x} - \\nu \\left(\\sum_{i=1}^{N} x_{i} - K\\right)\n",
    "$$"
   ]
  },
  {
   "cell_type": "code",
   "execution_count": 3,
   "id": "8e42f2ba-48cc-4210-b5c1-67e3a1d95f7a",
   "metadata": {},
   "outputs": [],
   "source": [
    "# Cost function (to minimize)\n",
    "N = 20  # The number of variables\n",
    "R = 5  # Rank\n",
    "A = np.random.normal(size=(R, N))\n",
    "cost = np.dot(A.T, A) / len(A)  # QUBO matrix"
   ]
  },
  {
   "cell_type": "code",
   "execution_count": 4,
   "id": "5273faaf-120b-4bce-8890-b17bf8acc0fa",
   "metadata": {},
   "outputs": [],
   "source": [
    "# K-hot constraint\n",
    "K = 3\n",
    "constraints = [({i: 1 for i in range(N)}, K)]"
   ]
  },
  {
   "cell_type": "code",
   "execution_count": 5,
   "id": "15d05728-baef-496a-958a-303f5cab3586",
   "metadata": {},
   "outputs": [],
   "source": [
    "# Using SA sampler\n",
    "from neal import SimulatedAnnealingSampler\n",
    "sampler = SimulatedAnnealingSampler()\n",
    "\n",
    "# Using D-Wave quantum annealer\n",
    "# from dwave.system import DWaveCliqueSampler\n",
    "# sampler = DWaveCliqueSampler(solver='', token='')"
   ]
  },
  {
   "cell_type": "code",
   "execution_count": 27,
   "id": "e5922af3-2c7c-46a7-990c-de52504df2ba",
   "metadata": {
    "tags": []
   },
   "outputs": [
    {
     "name": "stderr",
     "output_type": "stream",
     "text": [
      "100%|██████████████████████████████████████████████████████| 20/20 [00:00<00:00, 27.48it/s]\n"
     ]
    }
   ],
   "source": [
    "init_multipliers = np.zeros((len(constraints), N))\n",
    "\n",
    "lag_relax = LagrangeRelax(cost, constraints)\n",
    "multipliers_hists, sampleset_hists = lag_relax.optimize(init_multipliers, eta=0.01, num_iters=20, sampler=sampler, num_reads=100)"
   ]
  },
  {
   "cell_type": "code",
   "execution_count": 28,
   "id": "382d2813-435b-439f-a67a-df2583b7ad6e",
   "metadata": {},
   "outputs": [
    {
     "data": {
      "image/png": "[encoded data removed]",
      "text/plain": [
       "<Figure size 432x288 with 1 Axes>"
      ]
     },
     "metadata": {
      "needs_background": "light"
     },
     "output_type": "display_data"
    }
   ],
   "source": [
    "count_mean = [np.mean(np.sum(sampleset.record.sample, axis=1)) for sampleset in sampleset_hists]\n",
    "count_std = [np.std(np.sum(sampleset.record.sample, axis=1)) for sampleset in sampleset_hists]\n",
    "\n",
    "plt.axhline(K, c='k')\n",
    "plt.errorbar(range(len(sampleset_hists)), count_mean, count_std, capsize=5)\n",
    "plt.xlabel('Iteration')\n",
    "plt.ylabel('# of hot variables')\n",
    "plt.show()"
   ]
  },
  {
   "cell_type": "code",
   "execution_count": 29,
   "id": "2b4ae80f-d798-4ef2-be1f-b4ed62b669cf",
   "metadata": {},
   "outputs": [
    {
     "data": {
      "image/png": "[encoded data removed]",
      "text/plain": [
       "<Figure size 432x288 with 1 Axes>"
      ]
     },
     "metadata": {
      "needs_background": "light"
     },
     "output_type": "display_data"
    }
   ],
   "source": [
    "plt.plot(range(len(multipliers_hists)), [np.mean(mp[:, 0]) for mp in multipliers_hists])\n",
    "plt.xlabel('Iteration')\n",
    "plt.ylabel('Multiplier')\n",
    "plt.show()"
   ]
  },
  {
   "cell_type": "markdown",
   "id": "68f63b7b-4cad-4fe1-9d1c-7844275a65dd",
   "metadata": {},
   "source": [
    "## References\n",
    "\n",
    "```{bibliography}\n",
    ":style: unsrtalpha\n",
    ":filter: docname in docnames\n",
    "```"
   ]
  }
 ],
 "metadata": {
  "kernelspec": {
   "display_name": "notes",
   "language": "python",
   "name": "notes"
  },
  "language_info": {
   "codemirror_mode": {
    "name": "ipython",
    "version": 3
   },
   "file_extension": ".py",
   "mimetype": "text/x-python",
   "name": "python",
   "nbconvert_exporter": "python",
   "pygments_lexer": "ipython3",
   "version": "3.9.4"
  },
  "widgets": {
   "application/vnd.jupyter.widget-state+json": {
    "state": {},
    "version_major": 2,
    "version_minor": 0
   }
  }
 },
 "nbformat": 4,
 "nbformat_minor": 5
}
