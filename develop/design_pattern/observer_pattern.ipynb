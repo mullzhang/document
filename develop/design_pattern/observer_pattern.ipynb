{
 "cells": [
  {
   "cell_type": "markdown",
   "id": "5bfab4c8-7b69-413a-8796-1846608bf7f9",
   "metadata": {},
   "source": [
    "# Observer pattern\n",
    "\n",
    "Reference: [エキスパートPythonプログラミング 改訂3版; 第17章 Pythonのためのデザインパターン](https://www.amazon.co.jp/%E3%82%A8%E3%82%AD%E3%82%B9%E3%83%91%E3%83%BC%E3%83%88Python%E3%83%97%E3%83%AD%E3%82%B0%E3%83%A9%E3%83%9F%E3%83%B3%E3%82%B0-%E6%94%B9%E8%A8%823%E7%89%88-Michal-Jaworski/dp/4048930842/ref=tmm_hrd_swatch_0?_encoding=UTF8&qid=1638373673&sr=8-1)"
   ]
  },
  {
   "cell_type": "code",
   "execution_count": 1,
   "id": "a9754af5-a0ba-455a-8c7a-3eb80ff69b08",
   "metadata": {},
   "outputs": [],
   "source": [
    "class Event:\n",
    "    _observers = []\n",
    "\n",
    "    def __init__(self, subject):\n",
    "        self.subject = subject\n",
    "\n",
    "    @classmethod\n",
    "    def register(cls, observer):\n",
    "        if observer not in cls._observers:\n",
    "            cls._observers.append(observer)\n",
    "\n",
    "    @classmethod\n",
    "    def unregister(cls, observer):\n",
    "        if observer in cls._observers:\n",
    "            cls._observers.remove(observer)\n",
    "\n",
    "    @classmethod\n",
    "    def notify(cls, subject):\n",
    "        event = cls(subject)\n",
    "        for observer in cls._observers:\n",
    "            observer(event)"
   ]
  },
  {
   "cell_type": "code",
   "execution_count": 2,
   "id": "ebc053d6-a572-4e56-aaec-747a2abbedb9",
   "metadata": {},
   "outputs": [],
   "source": [
    "class WriteEvent(Event):\n",
    "    def __repr__(self):\n",
    "        return 'WriteEvent'\n",
    "    \n",
    "def log(event):\n",
    "    print(f'{event} was fired by the subject \"{event.subject}\"')\n",
    "    \n",
    "class AnotherObserver:\n",
    "    def __call__(self, event):\n",
    "        print(f'{event} called the action \"{self.__class__.__name__}\"')\n",
    "\n",
    "WriteEvent.register(log)\n",
    "WriteEvent.register(AnotherObserver())"
   ]
  },
  {
   "cell_type": "code",
   "execution_count": 3,
   "id": "c84f8962-5a29-4836-badd-62b5a560ffc7",
   "metadata": {},
   "outputs": [
    {
     "name": "stdout",
     "output_type": "stream",
     "text": [
      "WriteEvent was fired by the subject \"Something happened\"\n",
      "WriteEvent called the action \"AnotherObserver\"\n"
     ]
    }
   ],
   "source": [
    "WriteEvent.notify('Something happened')"
   ]
  },
  {
   "cell_type": "code",
   "execution_count": null,
   "id": "6fdc6ab2-04ad-44fb-a392-cccf54a13d52",
   "metadata": {},
   "outputs": [],
   "source": []
  }
 ],
 "metadata": {
  "kernelspec": {
   "display_name": "Python 3",
   "language": "python",
   "name": "python3"
  },
  "language_info": {
   "codemirror_mode": {
    "name": "ipython",
    "version": 3
   },
   "file_extension": ".py",
   "mimetype": "text/x-python",
   "name": "python",
   "nbconvert_exporter": "python",
   "pygments_lexer": "ipython3",
   "version": "3.9.4"
  },
  "widgets": {
   "application/vnd.jupyter.widget-state+json": {
    "state": {},
    "version_major": 2,
    "version_minor": 0
   }
  }
 },
 "nbformat": 4,
 "nbformat_minor": 5
}
